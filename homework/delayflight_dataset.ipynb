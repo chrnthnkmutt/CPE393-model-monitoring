{
 "cells": [
  {
   "cell_type": "markdown",
   "id": "42718853",
   "metadata": {},
   "source": [
    "## CPE393 Machine Learning Operations Homework: Model Mornitoring"
   ]
  },
  {
   "cell_type": "markdown",
   "id": "46e7713e",
   "metadata": {},
   "source": [
    "### Import Packages"
   ]
  },
  {
   "cell_type": "code",
   "execution_count": 2,
   "id": "ac095b64",
   "metadata": {},
   "outputs": [],
   "source": [
    "import pandas as pd\n",
    "from datetime import datetime, timedelta\n",
    "from sklearn import datasets\n",
    "from scipy import stats\n",
    "import numpy as np\n",
    "from evidently.legacy.test_suite import TestSuite\n",
    "from evidently.legacy.test_preset import DataDriftTestPreset, DataQualityTestPreset, DataStabilityTestPreset"
   ]
  },
  {
   "cell_type": "markdown",
   "id": "f1acbc8e",
   "metadata": {},
   "source": [
    "### Create simulation data for reference and current dataset"
   ]
  },
  {
   "cell_type": "code",
   "execution_count": 3,
   "id": "ef4695ca",
   "metadata": {},
   "outputs": [],
   "source": [
    "df=pd.read_csv(\"DelayedFlights.csv\")\n",
    "ref_data=df[1:500000]\n",
    "curr_data=df[500000:700000]"
   ]
  },
  {
   "cell_type": "code",
   "execution_count": 4,
   "id": "7cb69d64",
   "metadata": {},
   "outputs": [],
   "source": [
    "numerical_columns = [\n",
    "    'Month', 'DayofMonth', 'DayOfWeek', 'DepTime', 'CRSDepTime', 'CRSArrTime',\n",
    "    'FlightNum', 'CRSElapsedTime', 'AirTime', 'DepDelay',\n",
    "    'Distance', 'TaxiIn', 'TaxiOut', 'CarrierDelay', 'WeatherDelay', 'NASDelay',\n",
    "    'SecurityDelay', 'LateAircraftDelay'\n",
    "]\n",
    "df = df.drop(['Unnamed: 0', 'Year', 'CancellationCode', 'TailNum', 'Diverted', 'Cancelled', 'ArrTime', 'ActualElapsedTime'], axis=1)\n",
    "delay_colns = ['CarrierDelay', 'WeatherDelay', 'NASDelay', 'SecurityDelay', 'LateAircraftDelay']\n",
    "\n",
    "# Impute missing values with 0 for these columns\n",
    "df[delay_colns] = df[delay_colns].fillna(0)\n",
    "\n",
    "# Impute missing values with the median for these columns\n",
    "columns_to_impute = ['AirTime', 'ArrDelay', 'TaxiIn', 'CRSElapsedTime']\n",
    "df[columns_to_impute] = df[columns_to_impute].fillna(df[columns_to_impute].median())\n",
    "\n",
    "df = pd.get_dummies(df, columns=['UniqueCarrier', 'Origin', 'Dest'], drop_first=True)\n",
    "\n",
    "z_threshold = 3\n",
    "z_scores = np.abs(stats.zscore(df[numerical_columns]))\n",
    "outliers = np.where(z_scores > z_threshold)\n",
    "df_no_outliers = df[(z_scores <= z_threshold).all(axis=1)]\n"
   ]
  },
  {
   "cell_type": "markdown",
   "id": "501731e7",
   "metadata": {},
   "source": [
    "### Develop a model quality report using evidentlyAI"
   ]
  },
  {
   "cell_type": "markdown",
   "id": "4a9c0b4d",
   "metadata": {},
   "source": [
    "#### Data Drifts"
   ]
  },
  {
   "cell_type": "code",
   "execution_count": 6,
   "id": "23d1af44",
   "metadata": {},
   "outputs": [],
   "source": [
    "data_drift_suite = TestSuite(tests=[DataDriftTestPreset()])\n",
    "data_drift_suite.run(reference_data=ref_data, current_data=curr_data)\n",
    "\n",
    "if not data_drift_suite.as_dict()['summary']['all_passed']:\n",
    "    data_drift_suite.save_html(\"./data_drift_suite.html\")   \n"
   ]
  },
  {
   "cell_type": "code",
   "execution_count": 7,
   "id": "b7c86cab",
   "metadata": {},
   "outputs": [],
   "source": [
    "model_quality_suite = TestSuite(tests=[DataQualityTestPreset(), DataStabilityTestPreset()])\n",
    "model_quality_suite.run(reference_data=ref_data, current_data=curr_data)\n",
    "\n",
    "if not model_quality_suite.as_dict()['summary']['all_passed']:\n",
    "    model_quality_suite.save_html(\"./model_quality_suite.html\")"
   ]
  },
  {
   "cell_type": "markdown",
   "id": "201f3f12",
   "metadata": {},
   "source": [
    "### All reports link\n",
    "\n",
    "- The model quality report will be shown in the HTML file [Click here](./model_quality_suite.html)\n",
    "- The data drift report will be shown in the HTML file [Click here](./data_drift_suite.html)"
   ]
  }
 ],
 "metadata": {
  "kernelspec": {
   "display_name": "base",
   "language": "python",
   "name": "python3"
  },
  "language_info": {
   "codemirror_mode": {
    "name": "ipython",
    "version": 3
   },
   "file_extension": ".py",
   "mimetype": "text/x-python",
   "name": "python",
   "nbconvert_exporter": "python",
   "pygments_lexer": "ipython3",
   "version": "3.12.7"
  }
 },
 "nbformat": 4,
 "nbformat_minor": 5
}
